{
 "cells": [
  {
   "cell_type": "markdown",
   "metadata": {},
   "source": [
    "# Capsule Networks\n",
    "## Import Functions"
   ]
  },
  {
   "cell_type": "code",
   "execution_count": null,
   "metadata": {},
   "outputs": [],
   "source": [
    "import numpy as np\n",
    "import random as rand\n",
    "import matplotlib.pyplot as plt\n",
    "SIZE=100"
   ]
  },
  {
   "cell_type": "markdown",
   "metadata": {},
   "source": [
    "# Function to create layers"
   ]
  },
  {
   "cell_type": "code",
   "execution_count": null,
   "metadata": {},
   "outputs": [],
   "source": [
    "def create_layers(name,input_layer,size):\n",
    "    input_size=input_layer.get_shape()[1]\n",
    "    with tf.variable_scope(name):\n",
    "        weights=tf.get_variable('weights',shape=[input_size,size],initializer=tf.zeros_initializer)\n",
    "        int_bias=0.1\n",
    "        bias=tf.get_variable('bias',shape=[size],initializer=tf.constant_initializer(int_bias))\n",
    "    return tf.nn.relu(tf.matmul(input_layer, weights)+bias)"
   ]
  },
  {
   "cell_type": "markdown",
   "metadata": {},
   "source": [
    "# Create Capsule"
   ]
  },
  {
   "cell_type": "code",
   "execution_count": null,
   "metadata": {},
   "outputs": [],
   "source": [
    "def create_capsule(name,size):\n",
    "    with tf.variable_scope(name):\n",
    "        u=tf.get_variable('capsule',shape=[size],initializer=tf.zeros_initializer)\n",
    "    return u"
   ]
  },
  {
   "cell_type": "markdown",
   "metadata": {},
   "source": [
    "# Declare Layers"
   ]
  },
  {
   "cell_type": "code",
   "execution_count": null,
   "metadata": {},
   "outputs": [],
   "source": [
    "layer1=create_layers(name='layer1',input_layer=frame,size=SIZE)\n",
    "number_capsules_layer1=50\n",
    "number_capsules_layer2=40\n",
    "capsule_length=10\n",
    "u=tf.get_variable('capsules',shape=[number_capsules_layer1,capsule_length])\n",
    "for j in range(0,number_capsules_layer2):\n",
    "    for i in range(0,number_capsules_layer1):\n",
    "        input_capsule=create_capsule(name='u'+str(i),size=capsule_length)\n",
    "        u[j][i]=create_layers(name='layer1'+str(i)+str(j),input_layer=input_capsule,size=SIZE)\n",
    "        "
   ]
  },
  {
   "cell_type": "markdown",
   "metadata": {},
   "source": [
    "# Linear Transformation"
   ]
  },
  {
   "cell_type": "code",
   "execution_count": 3,
   "metadata": {},
   "outputs": [
    {
     "name": "stdout",
     "output_type": "stream",
     "text": [
      "layer1\n"
     ]
    }
   ],
   "source": []
  },
  {
   "cell_type": "code",
   "execution_count": 8,
   "metadata": {},
   "outputs": [
    {
     "name": "stdout",
     "output_type": "stream",
     "text": [
      "range(1, 10)\n"
     ]
    }
   ],
   "source": [
    "print (range(1,10))"
   ]
  },
  {
   "cell_type": "code",
   "execution_count": null,
   "metadata": {},
   "outputs": [],
   "source": []
  }
 ],
 "metadata": {
  "kernelspec": {
   "display_name": "Python 3",
   "language": "python",
   "name": "python3"
  },
  "language_info": {
   "codemirror_mode": {
    "name": "ipython",
    "version": 3
   },
   "file_extension": ".py",
   "mimetype": "text/x-python",
   "name": "python",
   "nbconvert_exporter": "python",
   "pygments_lexer": "ipython3",
   "version": "3.6.5"
  }
 },
 "nbformat": 4,
 "nbformat_minor": 2
}
