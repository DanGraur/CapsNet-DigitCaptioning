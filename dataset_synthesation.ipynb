{
 "cells": [
  {
   "cell_type": "markdown",
   "metadata": {},
   "source": [
    "## Dataset Synthesation\n",
    "\n",
    "In this notebook the dataset for image captioning is generated."
   ]
  },
  {
   "cell_type": "code",
   "execution_count": 20,
   "metadata": {},
   "outputs": [],
   "source": [
    "# libraries\n",
    "import numpy as np\n",
    "import random as rand\n",
    "import matplotlib.pyplot as plt\n",
    "import pickle\n",
    "from tensorflow.examples.tutorials.mnist import input_data\n",
    "import re\n",
    "import string\n",
    "IMAGE_SIZE=40\n",
    "DATA_SIZE=10000"
   ]
  },
  {
   "cell_type": "markdown",
   "metadata": {},
   "source": [
    "### 1 Prepare MNIST\n",
    "\n",
    "#### 1.1 Load MNIST\n",
    "The MNIST dataset is often used in machine learning and is readily available online [here](http://yann.lecun.com/exdb/mnist/). Load it, and display one of the images to check it works correctly."
   ]
  },
  {
   "cell_type": "code",
   "execution_count": 4,
   "metadata": {},
   "outputs": [
    {
     "name": "stdout",
     "output_type": "stream",
     "text": [
      "Extracting ../train-images-idx3-ubyte.gz\n",
      "Extracting ../train-labels-idx1-ubyte.gz\n",
      "Extracting ../t10k-images-idx3-ubyte.gz\n",
      "Extracting ../t10k-labels-idx1-ubyte.gz\n"
     ]
    }
   ],
   "source": [
    "# load MNIST dataset\n",
    "mnist = input_data.read_data_sets(\"../\", one_hot=False)\n",
    "\n",
    "X_train = np.vstack([img.reshape(-1,) for img in mnist.train.images])\n",
    "y_train = mnist.train.labels\n",
    "\n",
    "X_test = np.vstack([img.reshape(-1,) for img in mnist.test.images])\n",
    "y_test = mnist.test.labels\n",
    "\n",
    "del mnist"
   ]
  },
  {
   "cell_type": "code",
   "execution_count": 5,
   "metadata": {},
   "outputs": [
    {
     "name": "stdout",
     "output_type": "stream",
     "text": [
      "X_train shape: (55000, 784)\n",
      "y_train shape: (55000,)\n",
      "X_test shape: (10000, 784)\n",
      "y_test shape: (10000,)\n",
      "784\n"
     ]
    },
    {
     "data": {
      "text/plain": [
       "<matplotlib.image.AxesImage at 0x17e324ab240>"
      ]
     },
     "execution_count": 5,
     "metadata": {},
     "output_type": "execute_result"
    },
    {
     "data": {
      "image/png": "[encoded data removed]",
      "text/plain": [
       "<Figure size 432x288 with 1 Axes>"
      ]
     },
     "metadata": {},
     "output_type": "display_data"
    }
   ],
   "source": [
    "# print shapes and examples\n",
    "print(\"X_train shape:\", np.shape(X_train))\n",
    "print(\"y_train shape:\", np.shape(y_train))\n",
    "print(\"X_test shape:\", np.shape(X_test))\n",
    "print(\"y_test shape:\", np.shape(y_test))\n",
    "print(np.size(X_train[10]))\n",
    "plt.imshow(X_train[10].reshape(28,28))"
   ]
  },
  {
   "cell_type": "markdown",
   "metadata": {},
   "source": [
    "### 2 Bounding boxes\n",
    "In order to be able to calculate the overlap between two images we need to know where the digits are, this means that we need a smaller box than the 28x28 pixels that they all fall into. Libraries exist for this."
   ]
  },
  {
   "cell_type": "code",
   "execution_count": 6,
   "metadata": {},
   "outputs": [],
   "source": [
    "def trim_img(img):\n",
    "    i = img.reshape(28,28)\n",
    "    j = i[~np.all(i==0, axis=1)].T\n",
    "    return j[~np.all(j==0, axis=1)].T"
   ]
  },
  {
   "cell_type": "code",
   "execution_count": 7,
   "metadata": {},
   "outputs": [],
   "source": [
    "X_train_bounded = []\n",
    "\n",
    "for img in X_train:\n",
    "    X_train_bounded.append(trim_img(img))"
   ]
  },
  {
   "cell_type": "code",
   "execution_count": 8,
   "metadata": {},
   "outputs": [
    {
     "name": "stdout",
     "output_type": "stream",
     "text": [
      "20\n"
     ]
    },
    {
     "data": {
      "text/plain": [
       "<matplotlib.image.AxesImage at 0x17e34cbbd68>"
      ]
     },
     "execution_count": 8,
     "metadata": {},
     "output_type": "execute_result"
    },
    {
     "data": {
      "image/png": "[encoded data removed]",
      "text/plain": [
       "<Figure size 432x288 with 1 Axes>"
      ]
     },
     "metadata": {},
     "output_type": "display_data"
    }
   ],
   "source": [
    "print(np.shape(X_train_bounded[10])[0])\n",
    "plt.imshow(X_train_bounded[20])"
   ]
  },
  {
   "cell_type": "markdown",
   "metadata": {},
   "source": [
    "### 3 Create the new image\n",
    "\n",
    "Now it is time to generate the new images, these images will be 40x40 and contain two digits at random positions in the frame.\n",
    "\n",
    "#### 3.1 Place a digit randomly\n",
    "To generate the image the first step is to place a digit at a random position in the 40x40 frame. To do this write a function `place_digit(frame, digit)` which returns a modified `frame`, and a dictionary containing the top left and bottom right positions of the digit in the frame `{x0: , y0: , x1: , y1: }`."
   ]
  },
  {
   "cell_type": "code",
   "execution_count": 9,
   "metadata": {},
   "outputs": [],
   "source": [
    "def place_digit(frame, digit):\n",
    "    '''\n",
    "    param - frame : 2d numpy array\n",
    "    param - digit : 2d numpy array\n",
    "    \n",
    "    return - new_frame : 2d numpy array (same shape as frame)\n",
    "    return - position : dictionary containing x0, y0, x1, y1\n",
    "    '''\n",
    "    size = IMAGE_SIZE\n",
    "    new_frame = frame\n",
    "    digit_y = np.shape(digit)[0]\n",
    "    digit_x = np.shape(digit)[1]\n",
    "    y_limit=int(digit_y/2)\n",
    "    x_limit=int(digit_x/2)\n",
    "    location_x = rand.randrange(x_limit,size-x_limit)\n",
    "    location_y = rand.randrange(y_limit,size-y_limit)\n",
    "    x0=location_x-x_limit\n",
    "    y0=location_y-y_limit\n",
    "    x1=location_x+x_limit+digit_x%2\n",
    "    y1=location_y+y_limit+digit_y%2\n",
    "   # print(digit.shape)\n",
    "    position={'x0':x0,'y0':y0,'x1':x1,'y1':y1,'c':[location_y,location_x]}\n",
    "    #print(position)\n",
    "   # print(new_frame[y0:y1,x0:x1].shape)\n",
    "    new_frame[y0:y1,x0:x1]=np.maximum(new_frame[y0:y1,x0:x1],digit)\n",
    "    \n",
    "    \n",
    "    return new_frame, position"
   ]
  },
  {
   "cell_type": "code",
   "execution_count": 10,
   "metadata": {},
   "outputs": [
    {
     "data": {
      "text/plain": [
       "<matplotlib.image.AxesImage at 0x17e34d19358>"
      ]
     },
     "execution_count": 10,
     "metadata": {},
     "output_type": "execute_result"
    },
    {
     "data": {
      "image/png": "[encoded data removed]",
      "text/plain": [
       "<Figure size 432x288 with 1 Axes>"
      ]
     },
     "metadata": {},
     "output_type": "display_data"
    }
   ],
   "source": [
    "frame = np.zeros((40,40))\n",
    "frame,pos=place_digit(frame,X_train_bounded[20])\n",
    "plt.imshow(frame)\n"
   ]
  },
  {
   "cell_type": "code",
   "execution_count": 11,
   "metadata": {},
   "outputs": [
    {
     "name": "stdout",
     "output_type": "stream",
     "text": [
      "[16, 21]\n",
      "21\n"
     ]
    },
    {
     "data": {
      "image/png": "[encoded data removed]",
      "text/plain": [
       "<Figure size 432x288 with 1 Axes>"
      ]
     },
     "metadata": {},
     "output_type": "display_data"
    }
   ],
   "source": [
    "frame,pos=place_digit(frame,X_train_bounded[60])\n",
    "plt.imshow(frame)\n",
    "print(pos['c'])\n",
    "print(pos['c'][1])"
   ]
  },
  {
   "cell_type": "markdown",
   "metadata": {},
   "source": [
    "#### 3.2 Create the full image\n",
    "The full image together with the information needed for the caption can now be generated. This is done in a number of steps:\n",
    "\n",
    "1. Select two random digits\n",
    "2. Place the digits in the frame\n",
    "3. Calculate the intersection over union of the digit bounding boxes\n",
    "4. Calculate the center locations of the digits"
   ]
  },
  {
   "cell_type": "code",
   "execution_count": 61,
   "metadata": {},
   "outputs": [],
   "source": [
    "def gen_image(shape, X, Y):\n",
    "    '''\n",
    "    param - shape : tuple containing height and width of the images\n",
    "    \n",
    "    return - frame : 2d numpy array of shape shape\n",
    "    return - info : dictionary containing information about the frame\n",
    "    '''\n",
    "    frame = np.zeros((shape,shape))\n",
    "    \n",
    "    # select digits\n",
    "    while True:\n",
    "        n1 = rand.randrange(0,np.shape(X)[0])\n",
    "        digit1 = X[n1]\n",
    "        digit1_y = Y[n1]\n",
    "        #print(n1)\n",
    "        n2 = rand.randrange(0,np.shape(X)[0])\n",
    "        digit2 = X[n2]\n",
    "        digit2_y = Y[n2]\n",
    "        if(digit1_y!=digit2_y):\n",
    "            frame = np.zeros((shape,shape))\n",
    "            frame, pos1 = place_digit(frame, digit1)\n",
    "            frame, pos2 = place_digit(frame, digit2)\n",
    "\n",
    "\n",
    "            i=min(max(pos1['x1']-pos2['x0'],0),max(pos2['x1']-pos1['x0'],0))*\\\n",
    "            min(max(pos1['y1']-pos2['y0'],0),max(pos2['y1']-pos1['y0'],0))\n",
    "            u=np.size(X[n1])+np.size(X[n2])-i\n",
    "            # calc iou and centers\n",
    "            iou = i/u\n",
    "            if(iou<0.01):\n",
    "                break\n",
    "    \n",
    "    #print(n2)\n",
    "    # place digits\n",
    "\n",
    "    c1 = pos1['c']\n",
    "    c2 = pos2['c']\n",
    "    \n",
    "    # the info needed for generating the caption\n",
    "    info = {'y1': digit1_y, 'y2': digit2_y, 'iou': iou, 'c1': c1, 'c2': c2}\n",
    "    \n",
    "    return frame, info"
   ]
  },
  {
   "cell_type": "code",
   "execution_count": 62,
   "metadata": {},
   "outputs": [
    {
     "name": "stdout",
     "output_type": "stream",
     "text": [
      "{'y1': 5, 'y2': 8, 'iou': 0.0, 'c1': [10, 24], 'c2': [28, 12]}\n"
     ]
    },
    {
     "data": {
      "image/png": "[encoded data removed]",
      "text/plain": [
       "<Figure size 432x288 with 1 Axes>"
      ]
     },
     "metadata": {},
     "output_type": "display_data"
    }
   ],
   "source": [
    "shape=IMAGE_SIZE\n",
    "frame12,info=gen_image(shape,X_train_bounded,y_train)\n",
    "plt.imshow(frame12)\n",
    "print(info)"
   ]
  },
  {
   "cell_type": "markdown",
   "metadata": {},
   "source": [
    "### 4 Generate caption\n",
    "Now that the image is done the information about what is inside can be used to generate the ground-truth image caption. Complete the function `gen_caption(info)` so that it returns the caption as a string."
   ]
  },
  {
   "cell_type": "code",
   "execution_count": 63,
   "metadata": {},
   "outputs": [],
   "source": [
    "def gen_index(center):\n",
    "    idx=[0,0]\n",
    "    if center[0]<25 and center[0]>15:\n",
    "        idx[0]=1        \n",
    "    elif center[0]<25:\n",
    "        idx[0]=2\n",
    "    if center[1]<25 and center[1]>15:\n",
    "        idx[1]=1        \n",
    "    elif center[1]<25:\n",
    "        idx[1]=2\n",
    "    return (idx)"
   ]
  },
  {
   "cell_type": "code",
   "execution_count": 64,
   "metadata": {},
   "outputs": [],
   "source": [
    "def gen_text(digits,idx1,idx2,pos_y1,pos_y2):\n",
    "    if(idx1[0]>idx2[0]):\n",
    "        text=[str(digits[0]),str(digits[1]),pos_y1,pos_y2 ]\n",
    "        if(idx1[0]==1 and idx1[1]==1):\n",
    "            text[2][1]=\"\"\n",
    "        if(idx2[0]==1 and idx2[1]==1):\n",
    "            text[3][1]=\"\"\n",
    "    elif (idx1[0]<idx2[0]):\n",
    "        text=[str(digits[1]),str(digits[0]),pos_y2,pos_y1 ]\n",
    "        if(idx1[0]==1 and idx1[1]==1):\n",
    "            text[3][1]=\"\"\n",
    "        if(idx2[0]==1 and idx2[1]==1):\n",
    "            text[2][1]=\"\"\n",
    "    elif (idx1[1]>idx2[1]):\n",
    "        text=[str(digits[0]),str(digits[1]),pos_y1,pos_y2 ]\n",
    "        if(idx1[0]==1 and idx1[1]==1):\n",
    "            text[2][1]=\"\"\n",
    "        if(idx2[0]==1 and idx2[1]==1):\n",
    "            text[3][1]=\"\"\n",
    "    elif (idx1[1]<idx2[1]):\n",
    "        text=[str(digits[1]),str(digits[0]),pos_y2,pos_y1 ]\n",
    "        if(idx1[0]==1 and idx1[1]==1):\n",
    "            text[3][1]=\"\"\n",
    "        if(idx2[0]==1 and idx2[1]==1):\n",
    "            text[2][1]=\"\"\n",
    "    else:\n",
    "        text=0\n",
    "        return text\n",
    "    return text"
   ]
  },
  {
   "cell_type": "code",
   "execution_count": 65,
   "metadata": {},
   "outputs": [],
   "source": [
    "def gen_caption(info):\n",
    "    '''\n",
    "    param - info : information about the image\n",
    "    \n",
    "    return - caption : 2d numpy array containing word vectors\n",
    "    '''\n",
    "    positionY=['Bottom','Center','Top']\n",
    "    positionX=['Right','Center','Left']\n",
    "    center=[15,25]\n",
    "    idx1=gen_index(info['c1'])\n",
    "    pos_y1=[positionY[idx1[0]],positionX[idx1[1]]]\n",
    "    \n",
    "    \n",
    "    \n",
    "    \n",
    "    idx2=gen_index(info['c2'])\n",
    "    pos_y2=[positionY[idx2[0]],positionX[idx2[1]]]\n",
    "    \n",
    "    digits=[info['y1'],info['y2']]\n",
    "    \n",
    "    text=gen_text(digits,idx1,idx2,pos_y1,pos_y2)\n",
    "    if (text):\n",
    "        if (text[2][1]==\"\"):\n",
    "            caption=\"Digit \"+str(text[0])+\" is at the \"+text[2][0]+\" while digit \"+str(text[1])+\" is at the \"+text[3][0]+\", \"+text[3][1]\n",
    "        elif (text[3][1]==\"\"):\n",
    "            caption=\"Digit \"+str(text[0])+\" is at the \"+text[2][0]+\", \"+text[2][1]+\" while digit \"+str(text[1])+\" is at the \"+text[3][0]\n",
    "        else:\n",
    "            caption=\"Digit \"+str(text[0])+\" is at the \"+text[2][0]+\", \"+text[2][1]+\" while digit \"+str(text[1])+\" is at the \"+text[3][0]+\", \"+text[3][1]\n",
    "    else:\n",
    "        caption=\"Both the digits which are \"+str(digits[0])+\" and \"+str(digits[1])+ \" are at \"+pos_y1[0]+\", \"+pos_y1[1]+\" of the image\"\n",
    "    return caption"
   ]
  },
  {
   "cell_type": "code",
   "execution_count": 66,
   "metadata": {},
   "outputs": [],
   "source": [
    "def word_vector(caption):\n",
    "    list_of_words={'digit':1,'digits':2,'is':3,'are':4,'both':5,'the':6,'at':7,'while':8,'bottom':9,'center':10,'top':11,'left':12,'right':13,'which':14,'and':15,'of':16,'image':17, 'XQX':18}\n",
    "    word_vec=[]\n",
    "    FixCapVectSize = 19 \n",
    "    NoOfDig = 10 #Number of digits to be identified\n",
    "    caption=caption.lower()\n",
    "    caption = caption.translate(\"\".maketrans(string.punctuation,'                                '))\n",
    "    CapVect = re.split(' +',caption)\n",
    "    Count = FixCapVectSize - len(CapVect)\n",
    "    while (Count > 0):\n",
    "       CapVect.append('XQX')\n",
    "       Count = Count - 1\n",
    "    for i in CapVect:\n",
    "        IntWordVect = np.zeros(len(np.unique(np.asarray(list(list_of_words.values())))) + NoOfDig +1) #Creating place holder of one hot code for a single word\n",
    "        if (i.isdigit()):\n",
    "            IntWordVect[len(np.unique(np.asarray(list(list_of_words.values())))) + int(i)]=1\n",
    "            word_vec.append(IntWordVect)\n",
    "        else:\n",
    "            IntWordVect[list_of_words[i]-1]=1\n",
    "            word_vec.append(IntWordVect)\n",
    "    return word_vec"
   ]
  },
  {
   "cell_type": "code",
   "execution_count": 81,
   "metadata": {},
   "outputs": [
    {
     "name": "stdout",
     "output_type": "stream",
     "text": [
      "Digit 5 is at the Top, Center while digit 8 is at the Bottom, Left\n",
      "[array([1., 0., 0., 0., 0., 0., 0., 0., 0., 0., 0., 0., 0., 0., 0., 0., 0.,\n",
      "       0., 0., 0., 0., 0., 0., 0., 0., 0., 0., 0., 0.]), array([0., 0., 0., 0., 0., 0., 0., 0., 0., 0., 0., 0., 0., 0., 0., 0., 0.,\n",
      "       0., 0., 0., 0., 0., 0., 1., 0., 0., 0., 0., 0.]), array([0., 0., 1., 0., 0., 0., 0., 0., 0., 0., 0., 0., 0., 0., 0., 0., 0.,\n",
      "       0., 0., 0., 0., 0., 0., 0., 0., 0., 0., 0., 0.]), array([0., 0., 0., 0., 0., 0., 1., 0., 0., 0., 0., 0., 0., 0., 0., 0., 0.,\n",
      "       0., 0., 0., 0., 0., 0., 0., 0., 0., 0., 0., 0.]), array([0., 0., 0., 0., 0., 1., 0., 0., 0., 0., 0., 0., 0., 0., 0., 0., 0.,\n",
      "       0., 0., 0., 0., 0., 0., 0., 0., 0., 0., 0., 0.]), array([0., 0., 0., 0., 0., 0., 0., 0., 0., 0., 1., 0., 0., 0., 0., 0., 0.,\n",
      "       0., 0., 0., 0., 0., 0., 0., 0., 0., 0., 0., 0.]), array([0., 0., 0., 0., 0., 0., 0., 0., 0., 1., 0., 0., 0., 0., 0., 0., 0.,\n",
      "       0., 0., 0., 0., 0., 0., 0., 0., 0., 0., 0., 0.]), array([0., 0., 0., 0., 0., 0., 0., 1., 0., 0., 0., 0., 0., 0., 0., 0., 0.,\n",
      "       0., 0., 0., 0., 0., 0., 0., 0., 0., 0., 0., 0.]), array([1., 0., 0., 0., 0., 0., 0., 0., 0., 0., 0., 0., 0., 0., 0., 0., 0.,\n",
      "       0., 0., 0., 0., 0., 0., 0., 0., 0., 0., 0., 0.]), array([0., 0., 0., 0., 0., 0., 0., 0., 0., 0., 0., 0., 0., 0., 0., 0., 0.,\n",
      "       0., 0., 0., 0., 0., 0., 0., 0., 0., 1., 0., 0.]), array([0., 0., 1., 0., 0., 0., 0., 0., 0., 0., 0., 0., 0., 0., 0., 0., 0.,\n",
      "       0., 0., 0., 0., 0., 0., 0., 0., 0., 0., 0., 0.]), array([0., 0., 0., 0., 0., 0., 1., 0., 0., 0., 0., 0., 0., 0., 0., 0., 0.,\n",
      "       0., 0., 0., 0., 0., 0., 0., 0., 0., 0., 0., 0.]), array([0., 0., 0., 0., 0., 1., 0., 0., 0., 0., 0., 0., 0., 0., 0., 0., 0.,\n",
      "       0., 0., 0., 0., 0., 0., 0., 0., 0., 0., 0., 0.]), array([0., 0., 0., 0., 0., 0., 0., 0., 1., 0., 0., 0., 0., 0., 0., 0., 0.,\n",
      "       0., 0., 0., 0., 0., 0., 0., 0., 0., 0., 0., 0.]), array([0., 0., 0., 0., 0., 0., 0., 0., 0., 0., 0., 1., 0., 0., 0., 0., 0.,\n",
      "       0., 0., 0., 0., 0., 0., 0., 0., 0., 0., 0., 0.]), array([0., 0., 0., 0., 0., 0., 0., 0., 0., 0., 0., 0., 0., 0., 0., 0., 0.,\n",
      "       1., 0., 0., 0., 0., 0., 0., 0., 0., 0., 0., 0.]), array([0., 0., 0., 0., 0., 0., 0., 0., 0., 0., 0., 0., 0., 0., 0., 0., 0.,\n",
      "       1., 0., 0., 0., 0., 0., 0., 0., 0., 0., 0., 0.]), array([0., 0., 0., 0., 0., 0., 0., 0., 0., 0., 0., 0., 0., 0., 0., 0., 0.,\n",
      "       1., 0., 0., 0., 0., 0., 0., 0., 0., 0., 0., 0.]), array([0., 0., 0., 0., 0., 0., 0., 0., 0., 0., 0., 0., 0., 0., 0., 0., 0.,\n",
      "       1., 0., 0., 0., 0., 0., 0., 0., 0., 0., 0., 0.])]\n"
     ]
    }
   ],
   "source": [
    "caption=gen_caption(info)\n",
    "print(caption)\n",
    "print(word_vector(caption))\n",
    "position=['Bottom','top','Left','Right','Center']"
   ]
  },
  {
   "cell_type": "markdown",
   "metadata": {},
   "source": [
    "### 5 Generate dataset\n",
    "Use the functions created above to generate a full dataset of new images with captions. Implement the following steps:\n",
    "\n",
    "1. generate an image\n",
    "2. generate a caption\n",
    "3. append both to their respective lists"
   ]
  },
  {
   "cell_type": "code",
   "execution_count": 68,
   "metadata": {},
   "outputs": [],
   "source": [
    "def gen_dataset(shape, length, X, Y):\n",
    "    '''\n",
    "    param - shape : shape of the images\n",
    "    param - length : amount of images to be generated\n",
    "    param - X : list containing 2d numpy arrays which are the images\n",
    "    param - Y : numpy array containing image labels\n",
    "    \n",
    "    return - imgs : 2d numpy array of frames, each frame is turned into a vector\n",
    "    return - captions : 3d numpy array containing arrays of word vectors\n",
    "    '''\n",
    "    \n",
    "    imgs = []\n",
    "    captions = []\n",
    "    word_vec=[]\n",
    "    for i in range(length):\n",
    "        img,info=gen_image(shape,X,Y)\n",
    "        caps=gen_caption(info)\n",
    "        word_vect=word_vector(caps)\n",
    "        \n",
    "        imgs.append(img)\n",
    "        captions.append(caps)\n",
    "        word_vec.append(word_vect)\n",
    "        if i % 100 == 0:\n",
    "            print(str(i) + \"/\" + str(length))\n",
    "    \n",
    "    \n",
    "    return imgs, captions, word_vec"
   ]
  },
  {
   "cell_type": "markdown",
   "metadata": {},
   "source": [
    "### 6 Store the dataset\n",
    "Write the dataset to file so that it can be used elsewhere"
   ]
  },
  {
   "cell_type": "code",
   "execution_count": 83,
   "metadata": {},
   "outputs": [
    {
     "name": "stdout",
     "output_type": "stream",
     "text": [
      "0/100\n"
     ]
    }
   ],
   "source": [
    "length=DATA_SIZE\n",
    "shape=IMAGE_SIZE\n",
    "imgs,captions,word_vec=gen_dataset(shape,length,X_train_bounded,y_train)\n",
    "#print(word_vec[1])"
   ]
  },
  {
   "cell_type": "code",
   "execution_count": 91,
   "metadata": {},
   "outputs": [
    {
     "name": "stdout",
     "output_type": "stream",
     "text": [
      "Digit 8 is at the Top, Left while digit 1 is at the Top, Right\n"
     ]
    },
    {
     "data": {
      "image/png": "[encoded data removed]",
      "text/plain": [
       "<Figure size 432x288 with 1 Axes>"
      ]
     },
     "metadata": {},
     "output_type": "display_data"
    }
   ],
   "source": [
    "plt.imshow(imgs[24])\n",
    "print(captions[24])\n",
    "with open('images.pickle','wb') as F:   \n",
    "    pickle.dump(imgs,F)\n",
    "with open('captions.pickle','wb') as G:\n",
    "    pickle.dump(captions,G)\n",
    "with open('word_vec.pickle','wb') as G:\n",
    "    pickle.dump(word_vec,G)"
   ]
  },
  {
   "cell_type": "code",
   "execution_count": 76,
   "metadata": {},
   "outputs": [
    {
     "name": "stdout",
     "output_type": "stream",
     "text": [
      "(100, 40, 40)\n",
      "(100, 19, 29)\n"
     ]
    },
    {
     "data": {
      "image/png": "[encoded data removed]",
      "text/plain": [
       "<Figure size 432x288 with 1 Axes>"
      ]
     },
     "metadata": {},
     "output_type": "display_data"
    }
   ],
   "source": [
    "pkl_file = open('images.pickle', 'rb')\n",
    "images = pickle.load(pkl_file)\n",
    "pkl_file = open('word_vec.pickle', 'rb')\n",
    "captions = pickle.load(pkl_file)\n",
    "plt.imshow(images[4])\n",
    "#print(captions[20])\n",
    "images=np.asarray(images)\n",
    "print(images.shape)\n",
    "captions=np.asarray(captions)\n",
    "print(captions.shape)"
   ]
  },
  {
   "cell_type": "code",
   "execution_count": 77,
   "metadata": {},
   "outputs": [
    {
     "data": {
      "text/plain": [
       "0.0"
      ]
     },
     "execution_count": 77,
     "metadata": {},
     "output_type": "execute_result"
    }
   ],
   "source": [
    "b=np.zeros((25))\n",
    "b[2]"
   ]
  },
  {
   "cell_type": "markdown",
   "metadata": {},
   "source": []
  },
  {
   "cell_type": "code",
   "execution_count": 78,
   "metadata": {},
   "outputs": [
    {
     "data": {
      "text/plain": [
       "<matplotlib.image.AxesImage at 0x17e35330a90>"
      ]
     },
     "execution_count": 78,
     "metadata": {},
     "output_type": "execute_result"
    },
    {
     "data": {
      "image/png": "[encoded data removed]",
      "text/plain": [
       "<Figure size 432x288 with 1 Axes>"
      ]
     },
     "metadata": {},
     "output_type": "display_data"
    }
   ],
   "source": [
    "test = word_vector(\"digit is at 1 bottom\")\n",
    "plt.imshow(test)"
   ]
  },
  {
   "cell_type": "code",
   "execution_count": null,
   "metadata": {},
   "outputs": [],
   "source": []
  },
  {
   "cell_type": "code",
   "execution_count": null,
   "metadata": {},
   "outputs": [],
   "source": []
  },
  {
   "cell_type": "code",
   "execution_count": null,
   "metadata": {},
   "outputs": [],
   "source": []
  }
 ],
 "metadata": {
  "kernelspec": {
   "display_name": "Python 3",
   "language": "python",
   "name": "python3"
  },
  "language_info": {
   "codemirror_mode": {
    "name": "ipython",
    "version": 3
   },
   "file_extension": ".py",
   "mimetype": "text/x-python",
   "name": "python",
   "nbconvert_exporter": "python",
   "pygments_lexer": "ipython3",
   "version": "3.6.5"
  }
 },
 "nbformat": 4,
 "nbformat_minor": 2
}
